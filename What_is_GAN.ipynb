{
 "cells": [
  {
   "cell_type": "markdown",
   "metadata": {},
   "source": [
    "# What is GAN?"
   ]
  },
  {
   "cell_type": "markdown",
   "metadata": {},
   "source": [
    "このファイルではGANの簡単なアーキテクチャと実装方法について解説を行う。具体的な理論の解説は行わない。<br>\n",
    "具体的な理論に関してはIan Goodfellowとその同僚のGAN原論文[Generative Adversarial Networks](https://arxiv.org/pdf/1406.2661.pdf)を参考にしてほしい<br>"
   ]
  },
  {
   "cell_type": "markdown",
   "metadata": {},
   "source": [
    "GANの簡単なアーキテクチャ図は以下の通りである。(画像は[Generative Adversarial Networks (GANs) Tutorial](https://www.kaggle.com/code/emreustundag/generative-adversarial-networks-gans-tutorial)からとってきている)<br>\n",
    "<img src = \"https://www.researchgate.net/publication/340458845/figure/fig1/AS:879437700669440@1586685695381/The-architecture-of-vanilla-GANs.ppm\">"
   ]
  },
  {
   "cell_type": "markdown",
   "metadata": {},
   "source": [
    "GANのニューラルネットワーク部分はGenerative Networkと、Discriminative Networkである。<br>\n",
    "Generative Networkは日本語ではよく生成器と言われ、ランダムな入力が与えられた時偽の画像を生成するニューラルネットワークであり、<br>\n",
    "Discriminative Networkは日本語ではよく識別器と言われ、入力に本物の画像か偽の画像が与えられ、本物の画像か偽物の画像かを識別するニューラルネットワークである。<br>\n",
    "識別器は偽の画像をよく判別できるように訓練し、生成器は識別器をうまく騙せるような画像を制作するように訓練することが求められる。<br>"
   ]
  },
  {
   "cell_type": "markdown",
   "metadata": {},
   "source": [
    "これら2つの目的を達成する為に、目的関数$V(\\theta^{(D)},\\theta^{(G)})$が定義される。<br>\n",
    "$$\n",
    "V(\\theta^{(D)},\\theta^{(G)}) = E_{X\\verb|~|P_{data}(X)}[\\log{D(X)}] + E_{Z\\verb|~|P_{z}(Z)}[\\log{(1-D(G(Z)))}]\n",
    "$$\n",
    "上の式において$D(•)$は識別器の出力であり、$[0,1]$の値を取る。$G(•)$は生成器の出力であり生成された偽のデータを意味する<br>\n",
    "第一項が識別器の性能に関する項であり、第二項が生成器の性能に関する項である。<br>\n",
    "この目的関数を識別器Dにに対しては最大化し、生成器Gに対しては最小化することを目指す、つまり<br>\n",
    "$$\n",
    "\\underset{G}\\min\\,\\underset{D}\\max{V(\\theta^{(D)},\\theta^{(G)}) = \\underset{G}\\min\\,\\underset{D}\\max{E_{X\\verb|~|P_{data}(X)}[\\log{D(X)}] + E_{Z\\verb|~|P_{z}(Z)}[\\log{(1-D(G(Z)))}]}}\n",
    "$$"
   ]
  },
  {
   "cell_type": "markdown",
   "metadata": {},
   "source": [
    "を計算することがGANの学習方法となる。数式だけだと非常に簡潔に思えるが、実際の訓練の際には<br>第一項もしくは第二項のどちらにも過剰に適合しすぎてはいけないことに注意しなければならない"
   ]
  },
  {
   "cell_type": "markdown",
   "metadata": {},
   "source": [
    "実際の訓練の際は、生成器のパラメータを固定し、識別器のパラメーターを最適化したのちに、識別器のパラメータを固定し、生成器のパラメーターを最適化する。<br>\n",
    "という手順で学習を行う。"
   ]
  },
  {
   "cell_type": "markdown",
   "metadata": {},
   "source": [
    "では最初のGANの学習に移ろう、最初はVanilla GANの実装を行う。<br>\n",
    "このファイルではMNISTのGANモデルを制作することを目指す。"
   ]
  },
  {
   "cell_type": "code",
   "execution_count": 1,
   "metadata": {},
   "outputs": [
    {
     "name": "stdout",
     "output_type": "stream",
     "text": [
      "CUDA環境が壊れていないことを祈りながら確認->  False\n"
     ]
    }
   ],
   "source": [
    "import torch\n",
    "from torch import nn\n",
    "import torch.nn.functional as F\n",
    "from torch import optim\n",
    "import numpy as np\n",
    "from torchvision import transforms\n",
    "import torchvision\n",
    "from tqdm import tqdm\n",
    "np.random.seed(42)\n",
    "torch.manual_seed(42)\n",
    "torch.cuda.manual_seed(42)\n",
    "import warnings\n",
    "warnings.simplefilter('ignore')\n",
    "print(\"CUDA環境が壊れていないことを祈りながら確認-> \", torch.cuda.is_available())\n",
    "device = \"cuda\" if torch.cuda.is_available() else \"cpu\""
   ]
  },
  {
   "cell_type": "markdown",
   "metadata": {},
   "source": [
    "Vanilla GANの生成器と識別器は非常に簡単な構造をしている。"
   ]
  },
  {
   "cell_type": "code",
   "execution_count": 2,
   "metadata": {},
   "outputs": [
    {
     "name": "stdout",
     "output_type": "stream",
     "text": [
      "Vanilla GAN 生成器\n",
      " Sequential(\n",
      "  (0): Linear(in_features=64, out_features=100, bias=True)\n",
      "  (1): LeakyReLU(negative_slope=0.01)\n",
      "  (2): Linear(in_features=100, out_features=784, bias=True)\n",
      "  (3): Tanh()\n",
      ")\n",
      "Vanilla GAN 識別器\n",
      " Sequential(\n",
      "  (0): Linear(in_features=784, out_features=100, bias=True)\n",
      "  (1): LeakyReLU(negative_slope=0.01)\n",
      "  (2): Linear(in_features=100, out_features=1, bias=True)\n",
      "  (3): Sigmoid()\n",
      ")\n"
     ]
    }
   ],
   "source": [
    "z_size = 64\n",
    "GNet = nn.Sequential(nn.Linear(z_size,100),nn.LeakyReLU(),nn.Linear(100,784),nn.Tanh()).to(device)\n",
    "DNet = nn.Sequential(nn.Linear(784,100),nn.LeakyReLU(),nn.Linear(100,1),nn.Sigmoid()).to(device)\n",
    "print(\"Vanilla GAN 生成器\\n\", GNet)\n",
    "print(\"Vanilla GAN 識別器\\n\", DNet)"
   ]
  },
  {
   "cell_type": "markdown",
   "metadata": {},
   "source": [
    "次にMNIST Datasetを用意する。transformでピクセルの明るさの範囲を[-1,1]にすることで学習を改善するよう前処理を行っていることに注意してほしい。"
   ]
  },
  {
   "cell_type": "code",
   "execution_count": 3,
   "metadata": {},
   "outputs": [],
   "source": [
    "transform = transforms.Compose([transforms.ToTensor(), transforms.Normalize(mean = (0.5), std = (0.5))])\n",
    "mnist_data = torchvision.datasets.MNIST(root = \"./\",train=True, transform=transform,download=True)"
   ]
  },
  {
   "cell_type": "markdown",
   "metadata": {},
   "source": [
    "生成器の入力Zを生成するcreate_input関数と訓練を行うtrainGAN関数を制作する。<br>\n",
    "これらの関数は非常によく使うことが想定される為、モジュール化してGANutilsフォルダを制作しいれておくことにする。"
   ]
  },
  {
   "cell_type": "code",
   "execution_count": 4,
   "metadata": {},
   "outputs": [],
   "source": [
    "#入力zを制作する関数\n",
    "def create_input(batch_size, z_size, mode = \"uniform\"):\n",
    "    if mode == \"uniform\":\n",
    "        input_z = torch.rand(batch_size,z_size) * 2 - 1 #[-1,1]の値がでてくる\n",
    "    else:\n",
    "        input_z = torch.randn(batch_size,z_size)\n",
    "    return input_z\n",
    "def trainGAN(z_size: int, real_data: torch.Tensor, G: nn.Module, D: nn.Module, optimizerG: optim.Optimizer, optimizerD: optim.Optimizer,device):\n",
    "    #まず識別器のモデルを改善した後に生成器のモデルを改善する\n",
    "    criterion = nn.BCELoss()\n",
    "    optimizerD.zero_grad()\n",
    "    batch_size = real_data.size(0)\n",
    "    real_data = real_data.view(batch_size,-1) #入力ように整形\n",
    "    real_label = torch.ones(batch_size,1).to(device)\n",
    "    real_proba = D(real_data)\n",
    "    D_loss_real = criterion(real_proba, real_label)\n",
    "    input_z = create_input(batch_size,z_size).to(device)\n",
    "    fake_data = G(input_z)\n",
    "    fake_proba = D(fake_data)\n",
    "    fake_label = torch.zeros(batch_size,1).to(device)\n",
    "    D_loss_fake = criterion(fake_proba,fake_label)\n",
    "    D_loss = D_loss_fake + D_loss_real\n",
    "    D_loss.backward()\n",
    "    optimizerD.step()\n",
    "    #D_lossのところでGenerate Modelのパラメータの勾配も計算されている為、Generate Modelに関する勾配はここで初期化を行う\n",
    "    optimizerG.zero_grad()\n",
    "    input_z = create_input(batch_size,z_size).to(device)\n",
    "    fake_data = G(input_z)\n",
    "    fake_proba = D(fake_data)\n",
    "    real_label = torch.ones(batch_size,1).to(device) #ラベルが1になるように(騙すように)訓練するので、ラベルは1を予測するように作る\n",
    "    G_loss = criterion(fake_proba,real_label)\n",
    "    G_loss.backward()\n",
    "    optimizerG.step()\n",
    "    return D_loss.detach().item(), G_loss.detach().item()"
   ]
  },
  {
   "cell_type": "code",
   "execution_count": 21,
   "metadata": {},
   "outputs": [],
   "source": [
    "epochs = 100\n",
    "D_losses = []\n",
    "G_losses = []\n",
    "optimizerG = optim.Adam(GNet.parameters(),lr = 1e-4)\n",
    "optimizerD = optim.Adam(DNet.parameters(),lr = 1e-4)\n",
    "batch_size = 64\n",
    "mnist_dl = torch.utils.data.DataLoader(mnist_data,batch_size=batch_size)"
   ]
  },
  {
   "cell_type": "code",
   "execution_count": 22,
   "metadata": {},
   "outputs": [
    {
     "name": "stderr",
     "output_type": "stream",
     "text": [
      "  1%|          | 1/100 [00:11<19:36, 11.89s/it]"
     ]
    },
    {
     "name": "stdout",
     "output_type": "stream",
     "text": [
      "Discriminator Loss: 0.8526073694229126,Generater Loss: 1.2126933336257935\n"
     ]
    },
    {
     "name": "stderr",
     "output_type": "stream",
     "text": [
      " 11%|█         | 11/100 [02:17<19:16, 12.99s/it]"
     ]
    },
    {
     "name": "stdout",
     "output_type": "stream",
     "text": [
      "Discriminator Loss: 0.48615193367004395,Generater Loss: 2.2225353717803955\n"
     ]
    },
    {
     "name": "stderr",
     "output_type": "stream",
     "text": [
      " 21%|██        | 21/100 [04:36<19:09, 14.55s/it]"
     ]
    },
    {
     "name": "stdout",
     "output_type": "stream",
     "text": [
      "Discriminator Loss: 1.076493740081787,Generater Loss: 1.7143430709838867\n"
     ]
    },
    {
     "name": "stderr",
     "output_type": "stream",
     "text": [
      " 31%|███       | 31/100 [06:49<14:24, 12.52s/it]"
     ]
    },
    {
     "name": "stdout",
     "output_type": "stream",
     "text": [
      "Discriminator Loss: 1.200385332107544,Generater Loss: 2.0759313106536865\n"
     ]
    },
    {
     "name": "stderr",
     "output_type": "stream",
     "text": [
      " 41%|████      | 41/100 [08:59<11:42, 11.91s/it]"
     ]
    },
    {
     "name": "stdout",
     "output_type": "stream",
     "text": [
      "Discriminator Loss: 0.553421139717102,Generater Loss: 3.7357773780822754\n"
     ]
    },
    {
     "name": "stderr",
     "output_type": "stream",
     "text": [
      " 51%|█████     | 51/100 [10:52<09:15, 11.33s/it]"
     ]
    },
    {
     "name": "stdout",
     "output_type": "stream",
     "text": [
      "Discriminator Loss: 0.9627233743667603,Generater Loss: 2.6104917526245117\n"
     ]
    },
    {
     "name": "stderr",
     "output_type": "stream",
     "text": [
      " 61%|██████    | 61/100 [12:45<07:21, 11.33s/it]"
     ]
    },
    {
     "name": "stdout",
     "output_type": "stream",
     "text": [
      "Discriminator Loss: 0.9591682553291321,Generater Loss: 3.073105812072754\n"
     ]
    },
    {
     "name": "stderr",
     "output_type": "stream",
     "text": [
      " 71%|███████   | 71/100 [14:39<05:28, 11.33s/it]"
     ]
    },
    {
     "name": "stdout",
     "output_type": "stream",
     "text": [
      "Discriminator Loss: 0.6301062703132629,Generater Loss: 2.3635122776031494\n"
     ]
    },
    {
     "name": "stderr",
     "output_type": "stream",
     "text": [
      " 81%|████████  | 81/100 [16:32<03:35, 11.33s/it]"
     ]
    },
    {
     "name": "stdout",
     "output_type": "stream",
     "text": [
      "Discriminator Loss: 0.9179105758666992,Generater Loss: 1.9747287034988403\n"
     ]
    },
    {
     "name": "stderr",
     "output_type": "stream",
     "text": [
      " 91%|█████████ | 91/100 [18:26<01:42, 11.36s/it]"
     ]
    },
    {
     "name": "stdout",
     "output_type": "stream",
     "text": [
      "Discriminator Loss: 0.8816095590591431,Generater Loss: 1.627279281616211\n"
     ]
    },
    {
     "name": "stderr",
     "output_type": "stream",
     "text": [
      "100%|██████████| 100/100 [20:09<00:00, 12.09s/it]"
     ]
    },
    {
     "name": "stdout",
     "output_type": "stream",
     "text": [
      "Discriminator Loss: 0.6519849300384521,Generater Loss: 2.815255880355835\n"
     ]
    },
    {
     "name": "stderr",
     "output_type": "stream",
     "text": [
      "\n"
     ]
    }
   ],
   "source": [
    "for epoch in tqdm(range(epochs)):\n",
    "    all_D_loss = 0\n",
    "    all_G_loss = 0\n",
    "    for data in mnist_dl:\n",
    "        data = data[0]\n",
    "        data = data.to(device)\n",
    "        D_loss, G_loss = trainGAN(z_size,data,GNet,DNet,optimizerG,optimizerD,device)\n",
    "        all_D_loss += D_loss\n",
    "        all_G_loss += G_loss\n",
    "    D_losses.append(all_D_loss/len(mnist_dl))\n",
    "    G_losses.append(all_G_loss/len(mnist_dl))\n",
    "    if epoch % 10 == 0:\n",
    "        print(f\"Discriminator Loss: {D_loss},Generater Loss: {G_loss}\")\n",
    "print(f\"Discriminator Loss: {D_loss},Generater Loss: {G_loss}\")"
   ]
  },
  {
   "cell_type": "markdown",
   "metadata": {},
   "source": [
    "訓練中の損失の変動をみておこう。どちらも損失関数がある値に収束せず、損失が上下を繰り返しているはずである。<br>\n",
    "これは、訓練が進むにつれて生成器の精度が上がり、本物と偽物の画像を見分けることが識別器には難しくなる為である。"
   ]
  },
  {
   "cell_type": "code",
   "execution_count": 23,
   "metadata": {},
   "outputs": [
    {
     "data": {
      "image/png": "[encoded data removed]",
      "text/plain": [
       "<Figure size 1000x400 with 1 Axes>"
      ]
     },
     "metadata": {},
     "output_type": "display_data"
    }
   ],
   "source": [
    "import matplotlib.pyplot as plt\n",
    "plt.plot(D_losses)\n",
    "plt.plot(G_losses)\n",
    "plt.legend([\"Discriminator Loss\",\"Generator Loss\"])\n",
    "plt.show()"
   ]
  },
  {
   "cell_type": "markdown",
   "metadata": {},
   "source": [
    "生成器の損失は上で確認できた、しかしこうした生成モデルは損失は小さく見えていても実際に生成されたものは想定していた出力と異なる場合がある。<br>\n",
    "訓練したモデルの出力をみておこう。"
   ]
  },
  {
   "cell_type": "code",
   "execution_count": 25,
   "metadata": {},
   "outputs": [
    {
     "data": {
      "image/png": "[encoded data removed]",
      "text/plain": [
       "<Figure size 1000x400 with 10 Axes>"
      ]
     },
     "metadata": {},
     "output_type": "display_data"
    }
   ],
   "source": [
    "import matplotlib.pyplot as plt\n",
    "input_z = create_input(10,z_size).to(device)\n",
    "fake_data = GNet(input_z)\n",
    "fake_data = fake_data.detach().numpy()\n",
    "plt.figure(tight_layout=True)\n",
    "for index, fake_img in enumerate(fake_data):\n",
    "    ax = plt.subplot(2,5,index+1)\n",
    "    fake_img = fake_img.reshape(28,28)\n",
    "    ax.imshow(fake_img)\n",
    "plt.show()"
   ]
  },
  {
   "cell_type": "markdown",
   "metadata": {},
   "source": [
    "いくらかの出力はうまくいっているように見えるが、まだ数字を表しているのか不明な画像も多くみられる結果が得られたと思う。<br>\n",
    "ここまでは、全結合層のみで識別器も生成器も制作をおこなった。しかし、CNNに代表されるように、画像の特徴量を取り出すには畳み込みを用いた演算を用いた方が良い。<br>\n",
    "そこで、畳み込みによるGANの改善を図ったDCGANを実装していく。"
   ]
  }
 ],
 "metadata": {
  "kernelspec": {
   "display_name": "Python 3.8.8 ('env': venv)",
   "language": "python",
   "name": "python3"
  },
  "language_info": {
   "codemirror_mode": {
    "name": "ipython",
    "version": 3
   },
   "file_extension": ".py",
   "mimetype": "text/x-python",
   "name": "python",
   "nbconvert_exporter": "python",
   "pygments_lexer": "ipython3",
   "version": "3.8.8"
  },
  "orig_nbformat": 4,
  "vscode": {
   "interpreter": {
    "hash": "1e2ef60554f914b7f3190499c85ea0c48ae4fc01e8f403cc646d16228abbf679"
   }
  }
 },
 "nbformat": 4,
 "nbformat_minor": 2
}
